{
 "cells": [
  {
   "cell_type": "markdown",
   "metadata": {},
   "source": [
    "<h2>LU factorization with partial pivoting</h2>\n",
    "\n",
    "This code factors a matrix A and solves Ax=b by forward and backward substitution."
   ]
  },
  {
   "cell_type": "code",
   "execution_count": 1,
   "metadata": {},
   "outputs": [],
   "source": [
    "# These are the standard imports for CS 111. \n",
    "# This list may change as the quarter goes on.\n",
    "\n",
    "import os\n",
    "import time\n",
    "import math\n",
    "import numpy as np\n",
    "import numpy.linalg as npla\n",
    "import scipy\n",
    "from scipy import sparse\n",
    "from scipy import linalg\n",
    "import scipy.sparse.linalg as spla\n",
    "import matplotlib.pyplot as plt\n",
    "from matplotlib import cm\n",
    "from mpl_toolkits.mplot3d import axes3d\n",
    "%matplotlib tk"
   ]
  },
  {
   "cell_type": "code",
   "execution_count": 2,
   "metadata": {},
   "outputs": [
    {
     "name": "stdout",
     "output_type": "stream",
     "text": [
      "[[2 7 1 8]\n",
      " [0 2 8 1]\n",
      " [0 0 8 2]\n",
      " [0 0 0 8]]\n"
     ]
    }
   ],
   "source": [
    "# Example of an upper triangular matrix\n",
    "\n",
    "U = np.array([[2,7,1,8],[0,2,8,1],[0,0,8,2],[0,0,0,8]])\n",
    "print(U)"
   ]
  },
  {
   "cell_type": "code",
   "execution_count": 3,
   "metadata": {},
   "outputs": [
    {
     "name": "stdout",
     "output_type": "stream",
     "text": [
      "[[ 1.   0.   0.   0. ]\n",
      " [ 0.5  1.   0.   0. ]\n",
      " [ 0.   0.5  1.   0. ]\n",
      " [-0.5 -0.5  0.   1. ]]\n"
     ]
    }
   ],
   "source": [
    "# Example of a unit lower triangular matrix\n",
    "\n",
    "L = np.array([[1,0,0,0],[.5,1,0,0],[0,.5,1,0],[-.5,-.5,0,1]])\n",
    "print(L)"
   ]
  },
  {
   "cell_type": "code",
   "execution_count": 4,
   "metadata": {},
   "outputs": [
    {
     "name": "stdout",
     "output_type": "stream",
     "text": [
      "[[18.  2. 17.  6.  5.]\n",
      " [16.  3. 10.  3.  5.]\n",
      " [ 9.  8. 17. 10.  3.]\n",
      " [11.  4.  4.  1. 11.]\n",
      " [ 5.  5. 15. 10.  4.]]\n"
     ]
    }
   ],
   "source": [
    "# Experiments with a random matrix\n",
    "\n",
    "A = np.round(20*np.random.rand(5,5))\n",
    "print(A)"
   ]
  },
  {
   "cell_type": "code",
   "execution_count": 5,
   "metadata": {},
   "outputs": [
    {
     "data": {
      "text/plain": [
       "5"
      ]
     },
     "execution_count": 5,
     "metadata": {},
     "output_type": "execute_result"
    }
   ],
   "source": [
    "npla.matrix_rank(A)"
   ]
  },
  {
   "cell_type": "code",
   "execution_count": 6,
   "metadata": {},
   "outputs": [
    {
     "data": {
      "text/plain": [
       "47.81213235152768"
      ]
     },
     "execution_count": 6,
     "metadata": {},
     "output_type": "execute_result"
    }
   ],
   "source": [
    "npla.norm(A)"
   ]
  },
  {
   "cell_type": "code",
   "execution_count": 7,
   "metadata": {},
   "outputs": [
    {
     "data": {
      "text/plain": [
       "85.47877059705628"
      ]
     },
     "execution_count": 7,
     "metadata": {},
     "output_type": "execute_result"
    }
   ],
   "source": [
    "npla.cond(A)"
   ]
  },
  {
   "cell_type": "code",
   "execution_count": 8,
   "metadata": {},
   "outputs": [
    {
     "name": "stdout",
     "output_type": "stream",
     "text": [
      "original x: [0. 2. 3. 2. 5.]\n",
      "right-hand side b: [ 92.  67. 102.  77.  95.]\n"
     ]
    }
   ],
   "source": [
    "# Creating a right-hand side for which we know the answer to Ax=b\n",
    "\n",
    "xorig = np.round(10*np.random.rand(5))\n",
    "print(\"original x:\", xorig)\n",
    "b = A @ xorig\n",
    "print(\"right-hand side b:\", b)"
   ]
  },
  {
   "cell_type": "code",
   "execution_count": 9,
   "metadata": {},
   "outputs": [
    {
     "name": "stdout",
     "output_type": "stream",
     "text": [
      "computed x: [6.41462192e-16 2.00000000e+00 3.00000000e+00 2.00000000e+00\n",
      " 5.00000000e+00]\n"
     ]
    }
   ],
   "source": [
    "x = npla.solve(A,b)\n",
    "print(\"computed x:\", x)"
   ]
  },
  {
   "cell_type": "code",
   "execution_count": 10,
   "metadata": {},
   "outputs": [
    {
     "name": "stdout",
     "output_type": "stream",
     "text": [
      "error in x: [ 6.41462192e-16 -1.33226763e-15 -2.22044605e-15  4.44089210e-15\n",
      "  0.00000000e+00]\n"
     ]
    }
   ],
   "source": [
    "error = x - xorig\n",
    "print(\"error in x:\", error)"
   ]
  },
  {
   "cell_type": "code",
   "execution_count": 11,
   "metadata": {},
   "outputs": [
    {
     "name": "stdout",
     "output_type": "stream",
     "text": [
      "relative norm of error: 7.99379432951357e-16\n"
     ]
    }
   ],
   "source": [
    "print(\"relative norm of error:\", npla.norm(x-xorig) / npla.norm(x))"
   ]
  },
  {
   "cell_type": "code",
   "execution_count": 12,
   "metadata": {},
   "outputs": [
    {
     "name": "stdout",
     "output_type": "stream",
     "text": [
      "residual: [0. 0. 0. 0. 0.]\n",
      "relative norm of residual: 0.0\n"
     ]
    }
   ],
   "source": [
    "residual = b - A@x\n",
    "print(\"residual:\", residual)\n",
    "print(\"relative norm of residual:\", npla.norm(residual) / npla.norm(b))"
   ]
  },
  {
   "cell_type": "code",
   "execution_count": 14,
   "metadata": {},
   "outputs": [
    {
     "name": "stdout",
     "output_type": "stream",
     "text": [
      "A: [[ 2.   7.   1.   8. ]\n",
      " [ 1.   5.5  8.5  5. ]\n",
      " [ 0.   1.  12.   2.5]\n",
      " [-1.  -4.5 -4.5  3.5]] \n",
      "\n",
      "b: [17.   2.5 -7.  10.5]\n"
     ]
    }
   ],
   "source": [
    "# Now a different matrix A and right-hand side vector b\n",
    "\n",
    "A = np.array([[ 2. ,  7. ,  1. ,  8. ],\n",
    "       [ 1. ,  5.5,  8.5,  5. ],\n",
    "       [ 0. ,  1. , 12. ,  2.5],\n",
    "       [-1. , -4.5, -4.5,  3.5]])\n",
    "print(\"A:\", A,'\\n')\n",
    "b = np.array([17. ,  2.5, -7. , 10.5])\n",
    "print(\"b:\", b)"
   ]
  },
  {
   "cell_type": "code",
   "execution_count": 15,
   "metadata": {},
   "outputs": [
    {
     "name": "stdout",
     "output_type": "stream",
     "text": [
      "[[2 7 1 8]\n",
      " [0 2 8 1]\n",
      " [0 0 8 2]\n",
      " [0 0 0 8]]\n"
     ]
    }
   ],
   "source": [
    "# We used Gaussian elimination on the blackboard to triangularize A, giving U\n",
    "\n",
    "print(U)"
   ]
  },
  {
   "cell_type": "code",
   "execution_count": 16,
   "metadata": {},
   "outputs": [
    {
     "name": "stdout",
     "output_type": "stream",
     "text": [
      "[[ 1.   0.   0.   0. ]\n",
      " [ 0.5  1.   0.   0. ]\n",
      " [ 0.   0.5  1.   0. ]\n",
      " [-0.5 -0.5  0.   1. ]]\n"
     ]
    }
   ],
   "source": [
    "# During Gaussian elimination, we wrote down the multipliers in \n",
    "# a lower triangular array and then put ones on the diagonal, giving L\n",
    "\n",
    "print(L)"
   ]
  },
  {
   "cell_type": "code",
   "execution_count": 17,
   "metadata": {},
   "outputs": [
    {
     "name": "stdout",
     "output_type": "stream",
     "text": [
      "[[ 2.   7.   1.   8. ]\n",
      " [ 1.   5.5  8.5  5. ]\n",
      " [ 0.   1.  12.   2.5]\n",
      " [-1.  -4.5 -4.5  3.5]]\n",
      "\n",
      "[[ 2.   7.   1.   8. ]\n",
      " [ 1.   5.5  8.5  5. ]\n",
      " [ 0.   1.  12.   2.5]\n",
      " [-1.  -4.5 -4.5  3.5]]\n"
     ]
    }
   ],
   "source": [
    "# The theorem: Gaussian elimination factors A as the product L time U\n",
    "\n",
    "print( L @ U)\n",
    "print()\n",
    "print(A)"
   ]
  },
  {
   "cell_type": "code",
   "execution_count": 18,
   "metadata": {},
   "outputs": [],
   "source": [
    "def LUfactorNoPiv(A):\n",
    "    \"\"\"Factor a square matrix, A == L @ U (no partial pivoting)\n",
    "    Parameters: \n",
    "      A: the matrix.\n",
    "    Outputs (in order):\n",
    "      L: the lower triangular factor, same dimensions as A, with ones on the diagonal\n",
    "      U: the upper triangular factor, same dimensions as A\n",
    "    \"\"\"\n",
    "    \n",
    "    # Check the input\n",
    "    m, n = A.shape\n",
    "    assert m == n, 'input matrix A must be square'\n",
    "    \n",
    "    # Make a copy of the matrix that we will transform into L and U\n",
    "    LU = A.astype(np.float64).copy()\n",
    "    \n",
    "    # Eliminate each column in turn\n",
    "    for piv_col in range(n):\n",
    "            \n",
    "        # Update the rest of the matrix\n",
    "        pivot = LU[piv_col, piv_col]\n",
    "        assert pivot != 0., \"pivot is zero, can't continue\"\n",
    "        for row in range(piv_col + 1, n):\n",
    "            multiplier = LU[row, piv_col] / pivot\n",
    "            LU[row, piv_col] = multiplier\n",
    "            LU[row, (piv_col+1):] -= multiplier * LU[piv_col, (piv_col+1):]\n",
    "            \n",
    "    # Separate L and U in the result\n",
    "    U = np.triu(LU)\n",
    "    L = LU - U + np.eye(n)\n",
    "    \n",
    "    return (L, U)"
   ]
  },
  {
   "cell_type": "code",
   "execution_count": 19,
   "metadata": {},
   "outputs": [],
   "source": [
    "def Lsolve(L, b):\n",
    "    \"\"\"Forward solve a unit lower triangular system Ly = b for y\n",
    "    Parameters: \n",
    "      L: the matrix, must be square, lower triangular, with ones on the diagonal\n",
    "      b: the right-hand side vector\n",
    "    Output:\n",
    "      y: the solution vector to L @ y == b\n",
    "    \"\"\"\n",
    "    \n",
    "    # Check the input\n",
    "    m, n = L.shape\n",
    "    assert m == n, \"matrix L must be square\"\n",
    "    assert np.all(np.tril(L) == L), \"matrix L must be lower triangular\"\n",
    "    assert np.all(np.diag(L) == 1), \"matrix L must have ones on the diagonal\"\n",
    "    \n",
    "    # Make a copy of b that we will transform into the solution\n",
    "    y = b.astype(np.float64).copy()\n",
    "    \n",
    "    # Forward solve\n",
    "    for col in range(n):\n",
    "        y[col+1:] -= y[col] * L[col+1:, col]\n",
    "        \n",
    "    return y"
   ]
  },
  {
   "cell_type": "code",
   "execution_count": 35,
   "metadata": {},
   "outputs": [],
   "source": [
    "def Usolve(U, y):\n",
    "    \"\"\"Backward solve an upper triangular system Ux = y for x\n",
    "    Parameters: \n",
    "      U: the matrix, must be square, upper triangular, with nonzeros on the diagonal\n",
    "      y: the right-hand side vector\n",
    "    Output:\n",
    "      x: the solution vector to U @ x == y\n",
    "    \"\"\"\n",
    "    \n",
    "    print(\"you will write Usolve in hw2\")\n",
    "        \n",
    "    return "
   ]
  },
  {
   "cell_type": "code",
   "execution_count": 21,
   "metadata": {},
   "outputs": [
    {
     "name": "stdout",
     "output_type": "stream",
     "text": [
      "y: [17. -6. -4. 16.]\n",
      "\n",
      "x: [ 1.  0. -1.  2.]\n",
      "\n",
      "residual norm: 0.0\n"
     ]
    }
   ],
   "source": [
    "L,U = LUfactorNoPiv(A)\n",
    "y = Lsolve(L,b)\n",
    "print(\"y:\", y)\n",
    "x = Usolve(U,y)\n",
    "print(\"\\nx:\", x)\n",
    "print(\"\\nresidual norm:\", npla.norm(b - A @ x))"
   ]
  },
  {
   "cell_type": "code",
   "execution_count": 22,
   "metadata": {},
   "outputs": [
    {
     "data": {
      "text/plain": [
       "array([17. ,  2.5, -7. , 10.5])"
      ]
     },
     "execution_count": 22,
     "metadata": {},
     "output_type": "execute_result"
    }
   ],
   "source": [
    "A @ [1,0,-1,2]"
   ]
  },
  {
   "cell_type": "code",
   "execution_count": 23,
   "metadata": {},
   "outputs": [
    {
     "ename": "AssertionError",
     "evalue": "pivot is zero, can't continue",
     "output_type": "error",
     "traceback": [
      "\u001b[0;31m---------------------------------------------------------------------------\u001b[0m",
      "\u001b[0;31mAssertionError\u001b[0m                            Traceback (most recent call last)",
      "\u001b[0;32m<ipython-input-23-85798a30d945>\u001b[0m in \u001b[0;36m<module>\u001b[0;34m()\u001b[0m\n\u001b[1;32m      2\u001b[0m \u001b[0;34m\u001b[0m\u001b[0m\n\u001b[1;32m      3\u001b[0m \u001b[0mA\u001b[0m \u001b[0;34m=\u001b[0m \u001b[0mnp\u001b[0m\u001b[0;34m.\u001b[0m\u001b[0marray\u001b[0m\u001b[0;34m(\u001b[0m\u001b[0;34m[\u001b[0m\u001b[0;34m[\u001b[0m\u001b[0;36m0\u001b[0m\u001b[0;34m,\u001b[0m \u001b[0;36m1\u001b[0m\u001b[0;34m]\u001b[0m\u001b[0;34m,\u001b[0m \u001b[0;34m[\u001b[0m\u001b[0;36m1\u001b[0m\u001b[0;34m,\u001b[0m \u001b[0;36m2\u001b[0m\u001b[0;34m]\u001b[0m\u001b[0;34m]\u001b[0m\u001b[0;34m)\u001b[0m\u001b[0;34m\u001b[0m\u001b[0m\n\u001b[0;32m----> 4\u001b[0;31m \u001b[0mL\u001b[0m\u001b[0;34m,\u001b[0m\u001b[0mU\u001b[0m \u001b[0;34m=\u001b[0m \u001b[0mLUfactorNoPiv\u001b[0m\u001b[0;34m(\u001b[0m\u001b[0mA\u001b[0m\u001b[0;34m)\u001b[0m\u001b[0;34m\u001b[0m\u001b[0m\n\u001b[0m",
      "\u001b[0;32m<ipython-input-18-c880bbbfe44f>\u001b[0m in \u001b[0;36mLUfactorNoPiv\u001b[0;34m(A)\u001b[0m\n\u001b[1;32m     20\u001b[0m         \u001b[0;31m# Update the rest of the matrix\u001b[0m\u001b[0;34m\u001b[0m\u001b[0;34m\u001b[0m\u001b[0m\n\u001b[1;32m     21\u001b[0m         \u001b[0mpivot\u001b[0m \u001b[0;34m=\u001b[0m \u001b[0mLU\u001b[0m\u001b[0;34m[\u001b[0m\u001b[0mpiv_col\u001b[0m\u001b[0;34m,\u001b[0m \u001b[0mpiv_col\u001b[0m\u001b[0;34m]\u001b[0m\u001b[0;34m\u001b[0m\u001b[0m\n\u001b[0;32m---> 22\u001b[0;31m         \u001b[0;32massert\u001b[0m \u001b[0mpivot\u001b[0m \u001b[0;34m!=\u001b[0m \u001b[0;36m0.\u001b[0m\u001b[0;34m,\u001b[0m \u001b[0;34m\"pivot is zero, can't continue\"\u001b[0m\u001b[0;34m\u001b[0m\u001b[0m\n\u001b[0m\u001b[1;32m     23\u001b[0m         \u001b[0;32mfor\u001b[0m \u001b[0mrow\u001b[0m \u001b[0;32min\u001b[0m \u001b[0mrange\u001b[0m\u001b[0;34m(\u001b[0m\u001b[0mpiv_col\u001b[0m \u001b[0;34m+\u001b[0m \u001b[0;36m1\u001b[0m\u001b[0;34m,\u001b[0m \u001b[0mn\u001b[0m\u001b[0;34m)\u001b[0m\u001b[0;34m:\u001b[0m\u001b[0;34m\u001b[0m\u001b[0m\n\u001b[1;32m     24\u001b[0m             \u001b[0mmultiplier\u001b[0m \u001b[0;34m=\u001b[0m \u001b[0mLU\u001b[0m\u001b[0;34m[\u001b[0m\u001b[0mrow\u001b[0m\u001b[0;34m,\u001b[0m \u001b[0mpiv_col\u001b[0m\u001b[0;34m]\u001b[0m \u001b[0;34m/\u001b[0m \u001b[0mpivot\u001b[0m\u001b[0;34m\u001b[0m\u001b[0m\n",
      "\u001b[0;31mAssertionError\u001b[0m: pivot is zero, can't continue"
     ]
    }
   ],
   "source": [
    "# But LU factorization (without pivoting) fails if it encounters a zero pivot\n",
    "\n",
    "A = np.array([[0, 1], [1, 2]])\n",
    "L,U = LUfactorNoPiv(A)\n"
   ]
  },
  {
   "cell_type": "code",
   "execution_count": 25,
   "metadata": {},
   "outputs": [],
   "source": [
    "def LUfactor(A, pivoting = True):\n",
    "    \"\"\"Factor a square matrix with partial pivoting, A[p,:] == L @ U\n",
    "    Parameters: \n",
    "      A: the matrix.\n",
    "      pivoting: whether or not to do partial pivoting\n",
    "    Outputs (in order):\n",
    "      L: the lower triangular factor, same dimensions as A, with ones on the diagonal\n",
    "      U: the upper triangular factor, same dimensions as A\n",
    "      p: the permutation vector that permutes the rows of A by partial pivoting\n",
    "    \"\"\"\n",
    "    \n",
    "    # Check the input\n",
    "    m, n = A.shape\n",
    "    assert m == n, 'input matrix A must be square'\n",
    "    \n",
    "    # Initialize p to be the identity permutation\n",
    "    p = np.array(range(n))\n",
    "    \n",
    "    # Make a copy of the matrix that we will transform into L and U\n",
    "    LU = A.astype(np.float64).copy()\n",
    "    \n",
    "    # Eliminate each column in turn\n",
    "    for piv_col in range(n):\n",
    "        \n",
    "        # Choose the pivot row and swap it into place\n",
    "        if pivoting:\n",
    "            piv_row = piv_col + np.argmax(LU[piv_col:, piv_col]) \n",
    "            assert LU[piv_row, piv_col] != 0., \"can't find nonzero pivot, matrix is singular\"\n",
    "            LU[[piv_col, piv_row], :]  = LU[[piv_row, piv_col], :]\n",
    "            p[[piv_col, piv_row]]      = p[[piv_row, piv_col]]\n",
    "            \n",
    "        # Update the rest of the matrix\n",
    "        pivot = LU[piv_col, piv_col]\n",
    "        assert pivot != 0., \"pivot is zero, can't continue\"\n",
    "        for row in range(piv_col + 1, n):\n",
    "            multiplier = LU[row, piv_col] / pivot\n",
    "            LU[row, piv_col] = multiplier\n",
    "            LU[row, (piv_col+1):] -= multiplier * LU[piv_col, (piv_col+1):]\n",
    "            \n",
    "    # Separate L and U in the result\n",
    "    U = np.triu(LU)\n",
    "    L = LU - U + np.eye(n)\n",
    "    \n",
    "    return (L, U, p)"
   ]
  },
  {
   "cell_type": "code",
   "execution_count": 30,
   "metadata": {},
   "outputs": [
    {
     "name": "stdout",
     "output_type": "stream",
     "text": [
      "A:\n",
      " [[19.  0. 16. 19. 18.]\n",
      " [ 9. 10. 12. 16. 12.]\n",
      " [ 4. 11.  1. 20. 14.]\n",
      " [ 5. 15. 15. 20.  7.]\n",
      " [13.  7. 16. 14.  1.]]\n",
      "\n",
      "L:\n",
      " [[ 1.00000000e+00  0.00000000e+00  0.00000000e+00  0.00000000e+00\n",
      "   0.00000000e+00]\n",
      " [ 2.63157895e-01  1.00000000e+00  0.00000000e+00  0.00000000e+00\n",
      "   0.00000000e+00]\n",
      " [ 6.84210526e-01  4.66666667e-01  1.00000000e+00  0.00000000e+00\n",
      "   0.00000000e+00]\n",
      " [ 4.73684211e-01  6.66666667e-01 -1.58000000e+02  1.00000000e+00\n",
      "   0.00000000e+00]\n",
      " [ 2.10526316e-01  7.33333333e-01 -5.86000000e+02  3.69190326e+00\n",
      "   1.00000000e+00]]\n",
      "\n",
      "U:\n",
      " [[ 1.90000000e+01  0.00000000e+00  1.60000000e+01  1.90000000e+01\n",
      "   1.80000000e+01]\n",
      " [ 0.00000000e+00  1.50000000e+01  1.07894737e+01  1.50000000e+01\n",
      "   2.26315789e+00]\n",
      " [ 0.00000000e+00  0.00000000e+00  1.75438596e-02 -6.00000000e+00\n",
      "  -1.23719298e+01]\n",
      " [ 0.00000000e+00  0.00000000e+00  0.00000000e+00 -9.51000000e+02\n",
      "  -1.95280000e+03]\n",
      " [ 0.00000000e+00  0.00000000e+00  0.00000000e+00  0.00000000e+00\n",
      "  -3.18513144e+01]]\n",
      "\n",
      "p:  [0 3 4 1 2]\n"
     ]
    }
   ],
   "source": [
    "# Our 2-by-2 counterexample again\n",
    "\n",
    "print('A:\\n', A)\n",
    "L, U, p = LUfactor(A)\n",
    "print('\\nL:\\n', L)\n",
    "print('\\nU:\\n', U)\n",
    "print('\\np: ', p)"
   ]
  },
  {
   "cell_type": "code",
   "execution_count": 31,
   "metadata": {},
   "outputs": [
    {
     "name": "stdout",
     "output_type": "stream",
     "text": [
      "matrix A:\n",
      " [[ 0. 11. 15. 16.  5.]\n",
      " [ 9.  8. 10. 15. 14.]\n",
      " [18. 13. 13.  7. 12.]\n",
      " [10. 12.  8.  1. 14.]\n",
      " [ 3.  5.  2. 14. 10.]]\n",
      "\n",
      "original x: [7. 2. 6. 2. 8.]\n",
      "\n",
      "right-hand side b: [184. 281. 340. 256. 151.]\n"
     ]
    }
   ],
   "source": [
    "# A larger example of LU with partial pivoting\n",
    "\n",
    "A = np.round(20*np.random.rand(5,5))\n",
    "print('matrix A:\\n', A)\n",
    "xorig = np.round(10*np.random.rand(5))\n",
    "print('\\noriginal x:', xorig)\n",
    "b = A @ xorig\n",
    "print('\\nright-hand side b:', b)"
   ]
  },
  {
   "cell_type": "code",
   "execution_count": 33,
   "metadata": {},
   "outputs": [
    {
     "name": "stdout",
     "output_type": "stream",
     "text": [
      "norm of difference between L times U and permuted A: 7.136584070361083e-15\n"
     ]
    }
   ],
   "source": [
    "# Factor the larger example\n",
    "\n",
    "L, U, p = LUfactor(A)\n",
    "print(\"norm of difference between L times U and permuted A:\", npla.norm( L@U - A[p,:]))"
   ]
  },
  {
   "cell_type": "code",
   "execution_count": 34,
   "metadata": {},
   "outputs": [
    {
     "name": "stdout",
     "output_type": "stream",
     "text": [
      "y: [340.         184.          85.90909091 284.97916667 103.91794872]\n",
      "\n",
      "x: [7. 2. 6. 2. 8.]\n",
      "\n",
      "residual norm: 6.355287432313019e-14\n"
     ]
    }
   ],
   "source": [
    "# Solve with the larger example\n",
    "\n",
    "y = Lsolve(L,b[p])\n",
    "print(\"y:\", y)\n",
    "x = Usolve(U,y)\n",
    "print(\"\\nx:\", x)\n",
    "print(\"\\nresidual norm:\", npla.norm(b - A @ x))"
   ]
  },
  {
   "cell_type": "code",
   "execution_count": null,
   "metadata": {},
   "outputs": [],
   "source": []
  }
 ],
 "metadata": {
  "kernelspec": {
   "display_name": "Python 3",
   "language": "python",
   "name": "python3"
  },
  "language_info": {
   "codemirror_mode": {
    "name": "ipython",
    "version": 3
   },
   "file_extension": ".py",
   "mimetype": "text/x-python",
   "name": "python",
   "nbconvert_exporter": "python",
   "pygments_lexer": "ipython3",
   "version": "3.6.5"
  }
 },
 "nbformat": 4,
 "nbformat_minor": 2
}

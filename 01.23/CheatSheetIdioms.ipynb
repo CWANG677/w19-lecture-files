{
 "cells": [
  {
   "cell_type": "markdown",
   "metadata": {},
   "source": [
    "<h2>Cheat sheet for numpy/scipy factorizations and operations on sparse matrices</h2>\n",
    "\n",
    "Python's API for manipulating sparse matrices is not as well designed as Matlab's. \n",
    "In Matlab, you can do (almost) anything to a sparse matrix with the same syntax\n",
    "as a dense matrix, or any mixture of dense and sparse. In numpy/scipy, you often\n",
    "have to use different syntax for sparse matrices. Here is my own cheat sheet for\n",
    "how to operations that involve sparse matrices in numpy/scipy.\n",
    "\n",
    "This is also a cheat sheet for some of the dense matrix factorizations in scipy, namely LU, Cholesky, and QR."
   ]
  },
  {
   "cell_type": "code",
   "execution_count": null,
   "metadata": {},
   "outputs": [],
   "source": [
    "# These are the standard imports for CS 111. \n",
    "# This list may change as the quarter goes on.\n",
    "\n",
    "import os\n",
    "import math\n",
    "import numpy as np\n",
    "import numpy.linalg as npla\n",
    "import scipy as sp\n",
    "import scipy.sparse.linalg as spla\n",
    "from scipy import sparse\n",
    "from scipy import linalg\n",
    "import matplotlib.pyplot as plt\n",
    "from matplotlib import cm\n",
    "from mpl_toolkits.mplot3d import axes3d\n",
    "%matplotlib tk"
   ]
  },
  {
   "cell_type": "code",
   "execution_count": null,
   "metadata": {},
   "outputs": [],
   "source": [
    "# create sparse from list of triples\n",
    "\n",
    "triples = [\n",
    "    (0, 0, 4.0),\n",
    "    (0, 1, -1.0),\n",
    "    (0, 2, -1.0),\n",
    "    (1, 0, -1.0),\n",
    "    (1, 1, 4.0),\n",
    "    (1, 3, -1.0),\n",
    "    (2, 0, -1.0),\n",
    "    (2, 2, 4.0),\n",
    "    (2, 3, -1.0),\n",
    "    (3, 1, -1.0),\n",
    "    (3, 2,-1.0),\n",
    "    (3, 3, 4.0)\n",
    "    ]\n",
    "\n",
    "rownum = [t[0] for t in triples]\n",
    "colnum = [t[1] for t in triples]\n",
    "values = [t[2] for t in triples]\n",
    "nrows = 4\n",
    "ncols = 4\n",
    "\n",
    "A = sparse.csr_matrix((values, (rownum, colnum)), shape = (nrows, ncols))\n",
    "\n",
    "print('\\nA:'); print(A)"
   ]
  },
  {
   "cell_type": "code",
   "execution_count": null,
   "metadata": {},
   "outputs": [],
   "source": [
    "# sparse to dense\n",
    "\n",
    "Ad = A.todense()\n",
    "print('\\nAd:'); print(Ad)"
   ]
  },
  {
   "cell_type": "code",
   "execution_count": null,
   "metadata": {},
   "outputs": [],
   "source": [
    "# dense to sparse\n",
    "\n",
    "As = sparse.csr_matrix(Ad)\n",
    "print('\\nAs:'); print(As)"
   ]
  },
  {
   "cell_type": "code",
   "execution_count": null,
   "metadata": {},
   "outputs": [],
   "source": [
    "# sparse matrix times dense vector\n",
    "\n",
    "v = np.array(range(4))\n",
    "print('\\nv:', v)\n",
    "\n",
    "w = As.dot(v)\n",
    "print('\\nw with As.dot:', w)\n",
    "w = A @ v\n",
    "print('\\nw with A @ v :', w)\n",
    "w = Ad @ v\n",
    "print('\\nw with Ad @ v:', w)"
   ]
  },
  {
   "cell_type": "code",
   "execution_count": null,
   "metadata": {},
   "outputs": [],
   "source": [
    "# sparse matrix times sparse matrix\n",
    "\n",
    "Bs = As @ As\n",
    "print('\\nAs @ As:'); print(Bs)\n",
    "Bd = Ad @ Ad\n",
    "print('\\nAd @ Ad:'); print(Bd)\n",
    "Bdiff = Bs - Bd\n",
    "print('\\ndiff:'); print(Bdiff)\n",
    "norm_diff = npla.norm(Bdiff)\n",
    "print('\\nnorm_diff:', norm_diff)\n"
   ]
  },
  {
   "cell_type": "code",
   "execution_count": null,
   "metadata": {},
   "outputs": [],
   "source": [
    "# sparse transpose\n",
    "\n",
    "Ast = As.T\n",
    "print('\\nAs.T:'); print(Ast)\n",
    "Adt = Ad.T\n",
    "print('\\nAd.T:'); print(Adt)\n",
    "norm_diff = npla.norm(Adt - Ast)\n",
    "print('\\nnorm_diff:', norm_diff)"
   ]
  },
  {
   "cell_type": "code",
   "execution_count": null,
   "metadata": {},
   "outputs": [],
   "source": [
    "# indexing sparse matrix\n",
    "\n",
    "print('\\nAs[2,3]:', As[2,3])\n",
    "print('\\nAs[2,:]:'); print(As[2,:])\n",
    "print('\\nAs[:2,1:]:'); print(As[:2,1:])"
   ]
  },
  {
   "cell_type": "code",
   "execution_count": null,
   "metadata": {},
   "outputs": [],
   "source": [
    "# dense Ax = b solver\n",
    "\n",
    "x = npla.solve(Ad,v)\n",
    "print('\\nrhs  :', v)\n",
    "print('\\nx    :', x)\n",
    "print('\\nA @ x:', Ad @ x)\n",
    "print('\\nrelative residual norm:', npla.norm(v - Ad @ x) / npla.norm(v))"
   ]
  },
  {
   "cell_type": "code",
   "execution_count": null,
   "metadata": {},
   "outputs": [],
   "source": [
    "# sparse Ax = b solver\n",
    "\n",
    "x = spla.spsolve(As,v)\n",
    "print('\\nrhs  :', v)\n",
    "print('\\nx:', x)\n",
    "print('\\nA @ x:', As @ x)\n",
    "print('\\nrelative residual norm:', npla.norm(v - As @ x) / npla.norm(v))"
   ]
  },
  {
   "cell_type": "code",
   "execution_count": null,
   "metadata": {},
   "outputs": [],
   "source": [
    "# dense least squares solver\n",
    "\n",
    "B = np.round(10*np.random.rand(6,4))\n",
    "print('\\nB:'); print(B)\n",
    "b = np.random.rand(6)\n",
    "solution = npla.lstsq(B, b, rcond = None)\n",
    "x = solution[0]\n",
    "print('\\nrhs  :', b)\n",
    "print('\\nx    :', x)\n",
    "print('\\nB @ x:', B @ x)\n",
    "print('\\nrelative residual norm:', npla.norm(b - B @ x) / npla.norm(b))"
   ]
  },
  {
   "cell_type": "code",
   "execution_count": null,
   "metadata": {},
   "outputs": [],
   "source": [
    "# dense LU factorization\n",
    "\n",
    "B = np.round(10*np.random.rand(4,4))\n",
    "print('\\nB:'); print(B)\n",
    "\n",
    "P, L, U = linalg.lu(B)\n",
    "print('\\nP:'); print(P)\n",
    "print('\\nL:'); print(L)\n",
    "print('\\nU:'); print(U)\n",
    "norm_diff = npla.norm(B - P @ L @ U)\n",
    "print('\\nnorm_diff:', norm_diff)"
   ]
  },
  {
   "cell_type": "code",
   "execution_count": null,
   "metadata": {},
   "outputs": [],
   "source": [
    "# dense Cholesky factorization\n",
    "\n",
    "L = linalg.cholesky(Ad, lower = True) # omit second parameter to get upper triangular factor\n",
    "print('\\nL:'); print(L)\n",
    "print('\\nL @ L.T:'); print(L @ L.T)\n",
    "print('\\nAd:'); print(Ad)\n",
    "print('\\nnorm_diff:', npla.norm(L @ L.T - Ad))"
   ]
  },
  {
   "cell_type": "code",
   "execution_count": null,
   "metadata": {},
   "outputs": [],
   "source": [
    "# dense QR factorization\n",
    "\n",
    "print('\\nB:'); print(B)\n",
    "\n",
    "Q,R = linalg.qr(B)\n",
    "print('\\nQ:'); print(Q)\n",
    "print('\\nQ @ Q.t:'); print(Q @ Q.T)\n",
    "print('\\nR:'); print(R)\n",
    "print('\\nQ @ R:'); print(Q @ R)\n",
    "print('\\nnorm_diff:', npla.norm(Q @ R - B))"
   ]
  },
  {
   "cell_type": "code",
   "execution_count": null,
   "metadata": {},
   "outputs": [],
   "source": [
    "# sparse LU factorization\n",
    "\n",
    "print('\\nB:'); print(B)\n",
    "Bs = sparse.csc_matrix(B)\n",
    "print('\\nBs:'); print(Bs)\n",
    "\n",
    "lu = spla.splu(Bs)\n",
    "\n",
    "print('\\nL:'); print(lu.L)\n",
    "print('\\nU:'); print(lu.U)\n",
    "print('\\nperm_r:', lu.perm_r)\n",
    "print('\\nperm_c:', lu.perm_c)\n"
   ]
  },
  {
   "cell_type": "code",
   "execution_count": null,
   "metadata": {},
   "outputs": [],
   "source": [
    "# sparse LU factorization of large temperature matrix\n",
    "\n",
    "AA = cs111.make_A(100)\n",
    "print('\\nA dimensions, nonzeros:', AA.shape, AA.size)\n",
    "AA = sparse.csc_matrix(AA)\n",
    "lu = spla.splu(AA)\n",
    "print('\\nL dimensions, nonzeros:', lu.L.shape, lu.L.size)\n",
    "#plt.spy(lu.L)"
   ]
  },
  {
   "cell_type": "code",
   "execution_count": null,
   "metadata": {},
   "outputs": [],
   "source": [
    "# sparse Cholesky factorization (hard to do, there's a python wrapper for cholmod somewhere)\n"
   ]
  }
 ],
 "metadata": {
  "kernelspec": {
   "display_name": "Python 3",
   "language": "python",
   "name": "python3"
  },
  "language_info": {
   "codemirror_mode": {
    "name": "ipython",
    "version": 3
   },
   "file_extension": ".py",
   "mimetype": "text/x-python",
   "name": "python",
   "nbconvert_exporter": "python",
   "pygments_lexer": "ipython3",
   "version": "3.6.5"
  }
 },
 "nbformat": 4,
 "nbformat_minor": 2
}

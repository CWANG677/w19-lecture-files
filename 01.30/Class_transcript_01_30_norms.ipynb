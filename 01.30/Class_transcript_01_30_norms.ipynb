{
 "cells": [
  {
   "cell_type": "markdown",
   "metadata": {},
   "source": [
    "<h2>In-class transcript from Lecture 7, January 30, 2019</h2> \n"
   ]
  },
  {
   "cell_type": "markdown",
   "metadata": {},
   "source": [
    "# Imports and defs for lecture"
   ]
  },
  {
   "cell_type": "code",
   "execution_count": 1,
   "metadata": {},
   "outputs": [],
   "source": [
    "# These are the standard imports for CS 111. \n",
    "# This list may change as the quarter goes on.\n",
    "\n",
    "import os\n",
    "import time\n",
    "import math\n",
    "import numpy as np\n",
    "import numpy.linalg as npla\n",
    "import scipy\n",
    "from scipy import sparse\n",
    "from scipy import linalg\n",
    "import scipy.sparse.linalg as spla\n",
    "import matplotlib.pyplot as plt\n",
    "from matplotlib import cm\n",
    "from mpl_toolkits.mplot3d import axes3d\n",
    "%matplotlib tk"
   ]
  },
  {
   "cell_type": "code",
   "execution_count": 2,
   "metadata": {},
   "outputs": [],
   "source": [
    "def Usolve(U, y, unit_diag = False):\n",
    "    \"\"\"Backward solve an upper triangular system Ux = y for x\n",
    "    Parameters: \n",
    "      U: the matrix, must be square, upper triangular, with nonzeros on the diagonal\n",
    "      y: the right-hand side vector\n",
    "      unit_diag = False: if true, assume the diagonal is all ones\n",
    "    Output:\n",
    "      x: the solution vector to U @ x == y\n",
    "    \"\"\"\n",
    "    # Check the input\n",
    "    m, n = U.shape\n",
    "    assert m == n, \"matrix must be square\"\n",
    "    assert np.all(np.triu(U) == U), \"matrix U must be upper triangular\"\n",
    "    if unit_diag:\n",
    "        assert np.all(np.diag(U) == 1), \"matrix U must have ones on the diagonal\"\n",
    "    yn, = y.shape\n",
    "    assert yn == n, \"rhs vector must be same size as U\"\n",
    "    \n",
    "    # Make a copy of y that we will transform into the solution\n",
    "    x = y.astype(np.float64).copy()\n",
    "    \n",
    "    # Back solve\n",
    "    for col in reversed(range(n)):\n",
    "        if not unit_diag:\n",
    "            x[col] /= U[col, col]\n",
    "        x[:col] -= x[col] * U[:col, col]\n",
    "        \n",
    "    return x"
   ]
  },
  {
   "cell_type": "markdown",
   "metadata": {},
   "source": [
    "# Lecture starts here"
   ]
  },
  {
   "cell_type": "code",
   "execution_count": 3,
   "metadata": {},
   "outputs": [
    {
     "name": "stdout",
     "output_type": "stream",
     "text": [
      "A:\n",
      "[[ 1  0  0]\n",
      " [ 0  1  0]\n",
      " [ 0  0  1]\n",
      " [-1  1  0]\n",
      " [-1  0  1]\n",
      " [ 0 -1  1]]\n",
      "\n",
      "B: [1237 1941 2417  711 1177  475]\n"
     ]
    }
   ],
   "source": [
    "# Heath surveyor problem\n",
    "\n",
    "A = np.array([[1,0,0],[0,1,0],[0,0,1],[-1,1,0],[-1,0,1],[0,-1,1]])\n",
    "b = np.array([1237,1941,2417,711,1177,475])\n",
    "print('A:'); print(A)\n",
    "print('\\nB:', b)"
   ]
  },
  {
   "cell_type": "code",
   "execution_count": 4,
   "metadata": {},
   "outputs": [
    {
     "name": "stdout",
     "output_type": "stream",
     "text": [
      "Q: (6, 3)\n",
      "[[-5.77350269e-01 -2.04124145e-01 -3.53553391e-01]\n",
      " [-0.00000000e+00 -6.12372436e-01 -3.53553391e-01]\n",
      " [-0.00000000e+00 -0.00000000e+00 -7.07106781e-01]\n",
      " [ 5.77350269e-01 -4.08248290e-01  3.70430685e-17]\n",
      " [ 5.77350269e-01  2.04124145e-01 -3.53553391e-01]\n",
      " [-0.00000000e+00  6.12372436e-01 -3.53553391e-01]]\n",
      "\n",
      "R: (3, 3)\n",
      "[[-1.73205081  0.57735027  0.57735027]\n",
      " [ 0.         -1.63299316  0.81649658]\n",
      " [ 0.          0.         -1.41421356]]\n"
     ]
    }
   ],
   "source": [
    "Q, R = linalg.qr(A, mode='economic')\n",
    "\n",
    "print('Q:', Q.shape); print(Q)\n",
    "print('\\nR:', R.shape); print(R)"
   ]
  },
  {
   "cell_type": "code",
   "execution_count": 5,
   "metadata": {},
   "outputs": [
    {
     "data": {
      "text/plain": [
       "4.458965305937306e-16"
      ]
     },
     "execution_count": 5,
     "metadata": {},
     "output_type": "execute_result"
    }
   ],
   "source": [
    "npla.norm(Q @ R - A)"
   ]
  },
  {
   "cell_type": "code",
   "execution_count": 6,
   "metadata": {},
   "outputs": [
    {
     "data": {
      "text/plain": [
       "array([1236., 1943., 2416.])"
      ]
     },
     "execution_count": 6,
     "metadata": {},
     "output_type": "execute_result"
    }
   ],
   "source": [
    "x = Usolve(R, Q.T @ b)\n",
    "x"
   ]
  },
  {
   "cell_type": "code",
   "execution_count": 7,
   "metadata": {},
   "outputs": [
    {
     "data": {
      "text/plain": [
       "array([ 1., -2.,  1.,  4., -3.,  2.])"
      ]
     },
     "execution_count": 7,
     "metadata": {},
     "output_type": "execute_result"
    }
   ],
   "source": [
    "b - A @ x"
   ]
  },
  {
   "cell_type": "code",
   "execution_count": 8,
   "metadata": {},
   "outputs": [],
   "source": [
    "x, resid, rank, sv = npla.lstsq(A, b, rcond = None)"
   ]
  },
  {
   "cell_type": "code",
   "execution_count": 9,
   "metadata": {},
   "outputs": [
    {
     "data": {
      "text/plain": [
       "array([1236., 1943., 2416.])"
      ]
     },
     "execution_count": 9,
     "metadata": {},
     "output_type": "execute_result"
    }
   ],
   "source": [
    "x"
   ]
  },
  {
   "cell_type": "code",
   "execution_count": 10,
   "metadata": {},
   "outputs": [
    {
     "data": {
      "text/plain": [
       "array([35.])"
      ]
     },
     "execution_count": 10,
     "metadata": {},
     "output_type": "execute_result"
    }
   ],
   "source": [
    "resid"
   ]
  },
  {
   "cell_type": "code",
   "execution_count": 12,
   "metadata": {},
   "outputs": [
    {
     "data": {
      "text/plain": [
       "5.916079783099616"
      ]
     },
     "execution_count": 12,
     "metadata": {},
     "output_type": "execute_result"
    }
   ],
   "source": [
    "npla.norm(b - A @ x)"
   ]
  },
  {
   "cell_type": "code",
   "execution_count": 13,
   "metadata": {},
   "outputs": [
    {
     "data": {
      "text/plain": [
       "3"
      ]
     },
     "execution_count": 13,
     "metadata": {},
     "output_type": "execute_result"
    }
   ],
   "source": [
    "rank"
   ]
  },
  {
   "cell_type": "code",
   "execution_count": 15,
   "metadata": {},
   "outputs": [
    {
     "data": {
      "text/plain": [
       "array([1236., 1943., 2416.])"
      ]
     },
     "execution_count": 15,
     "metadata": {},
     "output_type": "execute_result"
    }
   ],
   "source": [
    "x = npla.lstsq(A, b, rcond = None)[0]\n",
    "x"
   ]
  },
  {
   "cell_type": "code",
   "execution_count": 16,
   "metadata": {},
   "outputs": [],
   "source": [
    "# parabola"
   ]
  },
  {
   "cell_type": "code",
   "execution_count": 17,
   "metadata": {},
   "outputs": [
    {
     "name": "stdout",
     "output_type": "stream",
     "text": [
      "t: [ 0.   0.5  1.   1.5  2.   2.5  3.   3.5  4.   4.5  5.   5.5  6.   6.5\n",
      "  7.   7.5  8.   8.5  9.   9.5 10. ]\n",
      "y: [ 2.9  2.7  4.8  5.3  7.1  7.6  7.7  7.6  9.4  9.   9.6 10.  10.2  9.7\n",
      "  8.3  8.4  9.   8.3  6.6  6.7  4.1]\n"
     ]
    }
   ],
   "source": [
    "t = np.array(range(21))/2\n",
    "y = np.array([2.9, 2.7, 4.8, 5.3, 7.1, 7.6, 7.7, 7.6, 9.4, 9.0, 9.6, \n",
    "              10.0, 10.2, 9.7, 8.3, 8.4, 9.0, 8.3, 6.6, 6.7, 4.1])\n",
    "print('t:',t)\n",
    "print('y:',y)"
   ]
  },
  {
   "cell_type": "code",
   "execution_count": 18,
   "metadata": {},
   "outputs": [
    {
     "data": {
      "text/plain": [
       "[<matplotlib.lines.Line2D at 0x116891f28>]"
      ]
     },
     "execution_count": 18,
     "metadata": {},
     "output_type": "execute_result"
    },
    {
     "data": {
      "image/png": "[encoded data removed]",
      "text/plain": [
       "<Figure size 432x288 with 1 Axes>"
      ]
     },
     "metadata": {},
     "output_type": "display_data"
    }
   ],
   "source": [
    "%matplotlib inline\n",
    "plt.figure()\n",
    "plt.plot(t,y,'.')"
   ]
  },
  {
   "cell_type": "code",
   "execution_count": 19,
   "metadata": {},
   "outputs": [
    {
     "data": {
      "text/plain": [
       "array([[  1.  ,   0.  ,   0.  ],\n",
       "       [  1.  ,   0.5 ,   0.25],\n",
       "       [  1.  ,   1.  ,   1.  ],\n",
       "       [  1.  ,   1.5 ,   2.25],\n",
       "       [  1.  ,   2.  ,   4.  ],\n",
       "       [  1.  ,   2.5 ,   6.25],\n",
       "       [  1.  ,   3.  ,   9.  ],\n",
       "       [  1.  ,   3.5 ,  12.25],\n",
       "       [  1.  ,   4.  ,  16.  ],\n",
       "       [  1.  ,   4.5 ,  20.25],\n",
       "       [  1.  ,   5.  ,  25.  ],\n",
       "       [  1.  ,   5.5 ,  30.25],\n",
       "       [  1.  ,   6.  ,  36.  ],\n",
       "       [  1.  ,   6.5 ,  42.25],\n",
       "       [  1.  ,   7.  ,  49.  ],\n",
       "       [  1.  ,   7.5 ,  56.25],\n",
       "       [  1.  ,   8.  ,  64.  ],\n",
       "       [  1.  ,   8.5 ,  72.25],\n",
       "       [  1.  ,   9.  ,  81.  ],\n",
       "       [  1.  ,   9.5 ,  90.25],\n",
       "       [  1.  ,  10.  , 100.  ]])"
      ]
     },
     "execution_count": 19,
     "metadata": {},
     "output_type": "execute_result"
    }
   ],
   "source": [
    "m = len(y)\n",
    "A = np.ones((m,3))\n",
    "A[:,1] = t\n",
    "A[:,2] = t**2\n",
    "A"
   ]
  },
  {
   "cell_type": "code",
   "execution_count": 20,
   "metadata": {},
   "outputs": [
    {
     "data": {
      "text/plain": [
       "array([ 2.17571993,  2.67041339, -0.23844394])"
      ]
     },
     "execution_count": 20,
     "metadata": {},
     "output_type": "execute_result"
    }
   ],
   "source": [
    "x = npla.lstsq(A, y, rcond = None)[0]\n",
    "x"
   ]
  },
  {
   "cell_type": "code",
   "execution_count": 23,
   "metadata": {},
   "outputs": [
    {
     "data": {
      "text/plain": [
       "0.07384248666934154"
      ]
     },
     "execution_count": 23,
     "metadata": {},
     "output_type": "execute_result"
    }
   ],
   "source": [
    "r = y - A @ x\n",
    "r\n",
    "npla.norm(r)/npla.norm(y)"
   ]
  },
  {
   "cell_type": "code",
   "execution_count": 24,
   "metadata": {},
   "outputs": [
    {
     "data": {
      "text/plain": [
       "array([ 0. ,  2.5,  5. ,  7.5, 10. ])"
      ]
     },
     "execution_count": 24,
     "metadata": {},
     "output_type": "execute_result"
    }
   ],
   "source": [
    "np.linspace(0,10,5)"
   ]
  },
  {
   "cell_type": "code",
   "execution_count": 29,
   "metadata": {},
   "outputs": [
    {
     "data": {
      "text/plain": [
       "<matplotlib.legend.Legend at 0x113b92630>"
      ]
     },
     "execution_count": 29,
     "metadata": {},
     "output_type": "execute_result"
    },
    {
     "data": {
      "image/png": "[encoded data removed]",
      "text/plain": [
       "<Figure size 432x288 with 1 Axes>"
      ]
     },
     "metadata": {},
     "output_type": "display_data"
    }
   ],
   "source": [
    "%matplotlib inline\n",
    "plt.figure()\n",
    "plt.plot(t,y,'.')\n",
    "polyt = np.linspace(0,10,num=100)\n",
    "polyy = x[0] + x[1]*polyt + x[2]*polyt**2\n",
    "plt.plot(polyt,polyy)\n",
    "plt.xlabel('time')\n",
    "plt.ylabel('height')\n",
    "plt.legend(('observations', 'parabola fit'))"
   ]
  },
  {
   "cell_type": "code",
   "execution_count": null,
   "metadata": {},
   "outputs": [],
   "source": []
  }
 ],
 "metadata": {
  "kernelspec": {
   "display_name": "Python 3",
   "language": "python",
   "name": "python3"
  },
  "language_info": {
   "codemirror_mode": {
    "name": "ipython",
    "version": 3
   },
   "file_extension": ".py",
   "mimetype": "text/x-python",
   "name": "python",
   "nbconvert_exporter": "python",
   "pygments_lexer": "ipython3",
   "version": "3.6.5"
  }
 },
 "nbformat": 4,
 "nbformat_minor": 2
}

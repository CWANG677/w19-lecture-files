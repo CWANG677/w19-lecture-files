{
 "cells": [
  {
   "cell_type": "markdown",
   "metadata": {},
   "source": [
    "<h2>In-class transcript from Lecture 6, January 28, 2019</h2> \n"
   ]
  },
  {
   "cell_type": "markdown",
   "metadata": {},
   "source": [
    "# Imports and defs for lecture"
   ]
  },
  {
   "cell_type": "code",
   "execution_count": 1,
   "metadata": {},
   "outputs": [],
   "source": [
    "# These are the standard imports for CS 111. \n",
    "# This list may change as the quarter goes on.\n",
    "\n",
    "import os\n",
    "import time\n",
    "import math\n",
    "import numpy as np\n",
    "import numpy.linalg as npla\n",
    "import scipy\n",
    "from scipy import sparse\n",
    "from scipy import linalg\n",
    "import scipy.sparse.linalg as spla\n",
    "import matplotlib.pyplot as plt\n",
    "from matplotlib import cm\n",
    "from mpl_toolkits.mplot3d import axes3d\n",
    "%matplotlib tk"
   ]
  },
  {
   "cell_type": "code",
   "execution_count": 2,
   "metadata": {},
   "outputs": [],
   "source": [
    "def Usolve(U, y, unit_diag = False):\n",
    "    \"\"\"Backward solve an upper triangular system Ux = y for x\n",
    "    Parameters: \n",
    "      U: the matrix, must be square, upper triangular, with nonzeros on the diagonal\n",
    "      y: the right-hand side vector\n",
    "      unit_diag = False: if true, assume the diagonal is all ones\n",
    "    Output:\n",
    "      x: the solution vector to U @ x == y\n",
    "    \"\"\"\n",
    "    # Check the input\n",
    "    m, n = U.shape\n",
    "    assert m == n, \"matrix must be square\"\n",
    "    assert np.all(np.triu(U) == U), \"matrix U must be upper triangular\"\n",
    "    if unit_diag:\n",
    "        assert np.all(np.diag(U) == 1), \"matrix U must have ones on the diagonal\"\n",
    "    yn, = y.shape\n",
    "    assert yn == n, \"rhs vector must be same size as U\"\n",
    "    \n",
    "    # Make a copy of y that we will transform into the solution\n",
    "    x = y.astype(np.float64).copy()\n",
    "    \n",
    "    # Back solve\n",
    "    for col in reversed(range(n)):\n",
    "        if not unit_diag:\n",
    "            x[col] /= U[col, col]\n",
    "        x[:col] -= x[col] * U[:col, col]\n",
    "        \n",
    "    return x"
   ]
  },
  {
   "cell_type": "markdown",
   "metadata": {},
   "source": [
    "# Lecture starts here"
   ]
  },
  {
   "cell_type": "code",
   "execution_count": 3,
   "metadata": {},
   "outputs": [
    {
     "data": {
      "text/plain": [
       "array([[11., 18., 17.,  6.],\n",
       "       [ 9.,  9., 13., 16.],\n",
       "       [12.,  5.,  4., 11.],\n",
       "       [ 6., 14.,  0., 12.]])"
      ]
     },
     "execution_count": 3,
     "metadata": {},
     "output_type": "execute_result"
    }
   ],
   "source": [
    "A = np.round(20*np.random.rand(4,4))\n",
    "A\n"
   ]
  },
  {
   "cell_type": "code",
   "execution_count": 4,
   "metadata": {},
   "outputs": [],
   "source": [
    "Q, R = linalg.qr(A)"
   ]
  },
  {
   "cell_type": "code",
   "execution_count": 9,
   "metadata": {},
   "outputs": [
    {
     "name": "stdout",
     "output_type": "stream",
     "text": [
      "Q: (4, 4)\n",
      "[[-0.56280896  0.46355227  0.42690992 -0.53489558]\n",
      " [-0.46048006 -0.07694592  0.43861196  0.76789126]\n",
      " [-0.61397341 -0.66019186 -0.37114433 -0.22234039]\n",
      " [-0.30698671  0.58595676 -0.69829747  0.27348579]]\n",
      "\n",
      "R: (4, 4)\n",
      "[[-19.54482029 -21.64256278 -18.00988676 -21.18208272]\n",
      " [  0.          12.55386301   4.2393242    1.31954961]\n",
      " [  0.           0.          11.47484681  -2.88290642]\n",
      " [  0.           0.           0.           9.91297186]]\n"
     ]
    },
    {
     "data": {
      "text/plain": [
       "2.1302399764542657e-14"
      ]
     },
     "execution_count": 9,
     "metadata": {},
     "output_type": "execute_result"
    }
   ],
   "source": [
    "\n",
    "print('Q:', Q.shape); print(Q)\n",
    "print('\\nR:', R.shape); print(R)\n",
    "npla.norm(Q @ R - A )"
   ]
  },
  {
   "cell_type": "code",
   "execution_count": 8,
   "metadata": {},
   "outputs": [
    {
     "data": {
      "text/plain": [
       "array([[ 1.00000000e+00, -1.11022302e-16, -8.50014503e-17,\n",
       "         1.11022302e-16],\n",
       "       [-1.11022302e-16,  1.00000000e+00,  1.11022302e-16,\n",
       "        -5.55111512e-17],\n",
       "       [-8.50014503e-17,  1.11022302e-16,  1.00000000e+00,\n",
       "         0.00000000e+00],\n",
       "       [ 1.11022302e-16, -5.55111512e-17,  0.00000000e+00,\n",
       "         1.00000000e+00]])"
      ]
     },
     "execution_count": 8,
     "metadata": {},
     "output_type": "execute_result"
    }
   ],
   "source": [
    "Q.T @ Q"
   ]
  },
  {
   "cell_type": "code",
   "execution_count": 10,
   "metadata": {},
   "outputs": [
    {
     "data": {
      "text/plain": [
       "array([0.9189543 , 0.17420997, 0.80072507, 0.74870822])"
      ]
     },
     "execution_count": 10,
     "metadata": {},
     "output_type": "execute_result"
    }
   ],
   "source": [
    "b = np.random.rand(4)\n",
    "b"
   ]
  },
  {
   "cell_type": "code",
   "execution_count": 11,
   "metadata": {},
   "outputs": [
    {
     "data": {
      "text/plain": [
       "array([ 0.09268061,  0.0423831 , -0.03900346, -0.0333949 ])"
      ]
     },
     "execution_count": 11,
     "metadata": {},
     "output_type": "execute_result"
    }
   ],
   "source": [
    "x = Usolve(R, Q.T @ b)\n",
    "x"
   ]
  },
  {
   "cell_type": "code",
   "execution_count": 13,
   "metadata": {},
   "outputs": [
    {
     "data": {
      "text/plain": [
       "7.309037829299854e-16"
      ]
     },
     "execution_count": 13,
     "metadata": {},
     "output_type": "execute_result"
    }
   ],
   "source": [
    "npla.norm(b - A @ x) / npla.norm(b)"
   ]
  },
  {
   "cell_type": "code",
   "execution_count": 14,
   "metadata": {},
   "outputs": [
    {
     "data": {
      "text/plain": [
       "array([[14.,  9.,  0.,  2.],\n",
       "       [ 0.,  3.,  6., 10.],\n",
       "       [20.,  9., 16., 10.],\n",
       "       [ 7., 19.,  1.,  6.],\n",
       "       [ 3., 16.,  7., 18.],\n",
       "       [ 1., 15., 11., 14.],\n",
       "       [10., 12.,  7.,  9.],\n",
       "       [ 6., 15.,  1., 16.],\n",
       "       [18., 19.,  9., 19.],\n",
       "       [ 3., 15., 16.,  6.]])"
      ]
     },
     "execution_count": 14,
     "metadata": {},
     "output_type": "execute_result"
    }
   ],
   "source": [
    "A = np.round(20*np.random.rand(10,4))\n",
    "A\n"
   ]
  },
  {
   "cell_type": "code",
   "execution_count": 15,
   "metadata": {},
   "outputs": [],
   "source": [
    "Q, R = linalg.qr(A)"
   ]
  },
  {
   "cell_type": "code",
   "execution_count": 17,
   "metadata": {},
   "outputs": [
    {
     "data": {
      "text/plain": [
       "6.942194939621275e-16"
      ]
     },
     "execution_count": 17,
     "metadata": {},
     "output_type": "execute_result"
    }
   ],
   "source": [
    "npla.norm(Q.T @ Q - np.eye(10))\n"
   ]
  },
  {
   "cell_type": "code",
   "execution_count": 18,
   "metadata": {},
   "outputs": [
    {
     "data": {
      "text/plain": [
       "array([[-33.52610923, -32.78042175, -19.23873706, -26.36750939],\n",
       "       [  0.        , -29.89053279, -11.28605127, -22.90564463],\n",
       "       [  0.        ,   0.        , -18.77487798,  -4.59167513],\n",
       "       [  0.        ,   0.        ,   0.        ,  15.90604954],\n",
       "       [  0.        ,   0.        ,   0.        ,   0.        ],\n",
       "       [  0.        ,   0.        ,   0.        ,   0.        ],\n",
       "       [  0.        ,   0.        ,   0.        ,   0.        ],\n",
       "       [  0.        ,   0.        ,   0.        ,   0.        ],\n",
       "       [  0.        ,   0.        ,   0.        ,   0.        ],\n",
       "       [  0.        ,   0.        ,   0.        ,   0.        ]])"
      ]
     },
     "execution_count": 18,
     "metadata": {},
     "output_type": "execute_result"
    }
   ],
   "source": [
    "R"
   ]
  },
  {
   "cell_type": "code",
   "execution_count": 19,
   "metadata": {},
   "outputs": [
    {
     "data": {
      "text/plain": [
       "1.0088378597433515e-14"
      ]
     },
     "execution_count": 19,
     "metadata": {},
     "output_type": "execute_result"
    }
   ],
   "source": [
    "npla.norm(Q @ R - A )"
   ]
  },
  {
   "cell_type": "code",
   "execution_count": null,
   "metadata": {},
   "outputs": [],
   "source": []
  }
 ],
 "metadata": {
  "kernelspec": {
   "display_name": "Python 3",
   "language": "python",
   "name": "python3"
  },
  "language_info": {
   "codemirror_mode": {
    "name": "ipython",
    "version": 3
   },
   "file_extension": ".py",
   "mimetype": "text/x-python",
   "name": "python",
   "nbconvert_exporter": "python",
   "pygments_lexer": "ipython3",
   "version": "3.6.5"
  }
 },
 "nbformat": 4,
 "nbformat_minor": 2
}

{
 "cells": [
  {
   "cell_type": "markdown",
   "metadata": {},
   "source": [
    "<c><h2>The temperature problem:</h2></c>\n",
    "\n",
    "A cabin in the snow has all its walls at 0 degrees Celsius,\n",
    "except for a radiator at 100 degrees Celsius on one wall.\n",
    "What is the temperature at each point inside the cabin?\n",
    "\n",
    "For this model, we take the cabin to be 2-dimensional and square, and we discretize the interior\n",
    "of the cabin into a grid of k by k points. The temperature at any given point is (approximately)\n",
    "the average of the temperatures at the four neighboring points. \n",
    "This fact gives us one linear equation at each point, for a total of ndim = k<sup>2</sup> linear equations\n",
    "in the k<sup>2</sup> variables representing the temperatures at each point.\n",
    "\n",
    "We express this system of ndim linear equations in matrix form as A * t = b, where A is an ndim-by-ndim\n",
    "matrix (most of whose entries are zero), b is a right-hand size vector of ndim entries that among other\n",
    "things encodes the boundary temperatures, and the unknown vector t is the temperature at each interior point.\n",
    "\n",
    "This code sets up the matrix A and the vector b, uses scipy to solve the linear system for t, and \n",
    "uses matplotlib to visualize t."
   ]
  },
  {
   "cell_type": "code",
   "execution_count": null,
   "metadata": {},
   "outputs": [],
   "source": [
    "# These are the standard imports for CS 111. \n",
    "# This list may change as the quarter goes on.\n",
    "\n",
    "import os\n",
    "import math\n",
    "import numpy as np\n",
    "import numpy.linalg as npla\n",
    "import scipy\n",
    "from scipy import sparse\n",
    "from scipy import linalg\n",
    "import scipy.sparse.linalg as spla\n",
    "import matplotlib.pyplot as plt\n",
    "from matplotlib import cm\n",
    "from mpl_toolkits.mplot3d import axes3d\n",
    "%matplotlib tk"
   ]
  },
  {
   "cell_type": "code",
   "execution_count": null,
   "metadata": {},
   "outputs": [],
   "source": [
    "def make_A(k):\n",
    "    \"\"\"Create the matrix for the temperature problem on a k-by-k grid.\n",
    "    Parameters: \n",
    "      k: number of grid points in each dimension.\n",
    "    Outputs:\n",
    "      A: the sparse k**2-by-k**2 matrix representing the finite difference approximation to Poisson's equation.\n",
    "    \"\"\"\n",
    "    # First make a list with one triple (row, column, value) for each nonzero element of A\n",
    "    triples = []\n",
    "    for i in range(k):\n",
    "        for j in range(k):\n",
    "            # what row of the matrix is grid point (i,j)?\n",
    "            row = j + i*k\n",
    "            # the diagonal element in this row\n",
    "            triples.append((row, row, 4.0))\n",
    "            # connect to left grid neighbor\n",
    "            if j > 0:\n",
    "                triples.append((row, row - 1, -1.0))\n",
    "            # ... right neighbor\n",
    "            if j < k - 1:\n",
    "                triples.append((row, row + 1, -1.0))\n",
    "            # ... neighbor above\n",
    "            if i > 0:\n",
    "                triples.append((row, row - k, -1.0))\n",
    "            # ... neighbor below\n",
    "            if i < k - 1:\n",
    "                triples.append((row, row + k, -1.0))\n",
    "    \n",
    "    # Finally convert the list of triples to a scipy sparse matrix\n",
    "    ndim = k*k\n",
    "    rownum = [t[0] for t in triples]\n",
    "    colnum = [t[1] for t in triples]\n",
    "    values = [t[2] for t in triples]\n",
    "    A = sparse.csr_matrix((values, (rownum, colnum)), shape = (ndim, ndim))\n",
    "    \n",
    "    return A "
   ]
  },
  {
   "cell_type": "code",
   "execution_count": null,
   "metadata": {},
   "outputs": [],
   "source": [
    "def make_b(k, top = 0, bottom = 0, left = 0, right = 0):\n",
    "    \"\"\"Create the right-hand side for the temperature problem on a k-by-k grid.\n",
    "    Parameters: \n",
    "      k: number of grid points in each dimension.\n",
    "      top: list of k values for top boundary (optional, defaults to 0)\n",
    "      bottom: list of k values for bottom boundary (optional, defaults to 0)\n",
    "      left: list of k values for top boundary (optional, defaults to 0)\n",
    "      right: list of k values for top boundary (optional, defaults to 0)\n",
    "    Outputs:\n",
    "      b: the k**2 element vector (as a numpy array) for the rhs of the Poisson equation with given boundary conditions\n",
    "    \"\"\"\n",
    "    # Start with a vector of zeros\n",
    "    ndim = k*k\n",
    "    b = np.zeros(shape = ndim)\n",
    "    \n",
    "    # Fill in the four boundaries as appropriate\n",
    "    b[0        : k       ] += top\n",
    "    b[ndim - k : ndim    ] += bottom\n",
    "    b[0        : ndim : k] += left\n",
    "    b[k-1      : ndim : k] += right\n",
    "    \n",
    "    return b\n",
    "    "
   ]
  },
  {
   "cell_type": "code",
   "execution_count": null,
   "metadata": {},
   "outputs": [],
   "source": [
    "def radiator(k, width = .3, temperature = 100.):\n",
    "    \"\"\"Create one wall with a radiator\n",
    "    Parameters: \n",
    "      k: number of grid points in each dimension; length of the wall.\n",
    "      width: width of the radiator as a fraction of length of the wall (defaults to 0.2)\n",
    "      temperature: temperature of the radiator (defaults to 100)\n",
    "    Outputs:\n",
    "      wall: the k element vector (as a numpy array) for the boundary conditions at the wall\n",
    "    \"\"\"\n",
    "    rad_start = int(k * (0.5 - width/2))\n",
    "    rad_end = int(k * (0.5 + width/2))\n",
    "    wall = np.zeros(k)\n",
    "    wall[rad_start : rad_end] = temperature\n",
    "    \n",
    "    return wall\n"
   ]
  },
  {
   "cell_type": "code",
   "execution_count": null,
   "metadata": {},
   "outputs": [],
   "source": [
    "wave = np.sin( np.array(range(100)) / 100 * 2 * np.pi)"
   ]
  },
  {
   "cell_type": "code",
   "execution_count": null,
   "metadata": {},
   "outputs": [],
   "source": [
    "plt.plot(wave)"
   ]
  },
  {
   "cell_type": "code",
   "execution_count": null,
   "metadata": {},
   "outputs": [],
   "source": [
    "k = 100\n",
    "rad_wall = radiator(k)\n",
    "A = make_A(k)\n",
    "b = make_b(k, right = rad_wall)\n",
    "# b = make_b(k, right = wave, bottom = wave, top = wave)"
   ]
  },
  {
   "cell_type": "code",
   "execution_count": null,
   "metadata": {},
   "outputs": [],
   "source": [
    "t = spla.spsolve(A,b)\n",
    "T = t.reshape(k,k)\n"
   ]
  },
  {
   "cell_type": "code",
   "execution_count": null,
   "metadata": {},
   "outputs": [],
   "source": [
    "T.shape"
   ]
  },
  {
   "cell_type": "code",
   "execution_count": null,
   "metadata": {},
   "outputs": [],
   "source": [
    "%matplotlib tk\n",
    "plt.figure()\n",
    "plt.imshow(T, cmap=cm.hot)"
   ]
  },
  {
   "cell_type": "code",
   "execution_count": null,
   "metadata": {},
   "outputs": [],
   "source": [
    "X, Y = np.meshgrid(range(k), range(k))\n",
    "%matplotlib tk\n",
    "fig = plt.figure()\n",
    "ax = fig.gca(projection='3d')\n",
    "ax = fig.gca()\n",
    "ax.plot_surface(X, Y, T, cmap=cm.hot)"
   ]
  },
  {
   "cell_type": "code",
   "execution_count": null,
   "metadata": {},
   "outputs": [],
   "source": []
  }
 ],
 "metadata": {
  "kernelspec": {
   "display_name": "Python 3",
   "language": "python",
   "name": "python3"
  },
  "language_info": {
   "codemirror_mode": {
    "name": "ipython",
    "version": 3
   },
   "file_extension": ".py",
   "mimetype": "text/x-python",
   "name": "python",
   "nbconvert_exporter": "python",
   "pygments_lexer": "ipython3",
   "version": "3.6.5"
  }
 },
 "nbformat": 4,
 "nbformat_minor": 2
}

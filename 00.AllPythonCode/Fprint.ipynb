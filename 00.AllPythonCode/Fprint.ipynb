{
 "cells": [
  {
   "cell_type": "markdown",
   "metadata": {},
   "source": [
    "<h2>Decoding and printing the actual contents of a 64-bit floating-point number</h2> \n"
   ]
  },
  {
   "cell_type": "code",
   "execution_count": 1,
   "metadata": {},
   "outputs": [],
   "source": [
    "# These are the standard imports for CS 111. \n",
    "# This list may change as the quarter goes on.\n",
    "\n",
    "import os\n",
    "import time\n",
    "import math\n",
    "import struct\n",
    "import numpy as np\n",
    "import numpy.linalg as npla\n",
    "import scipy\n",
    "from scipy import sparse\n",
    "from scipy import linalg\n",
    "import scipy.sparse.linalg as spla\n",
    "import matplotlib.pyplot as plt\n",
    "from matplotlib import cm\n",
    "from mpl_toolkits.mplot3d import axes3d\n",
    "%matplotlib tk"
   ]
  },
  {
   "cell_type": "code",
   "execution_count": 2,
   "metadata": {},
   "outputs": [],
   "source": [
    "bits = {'0':'0000', '1':'0001', '2':'0010', '3':'0011', \n",
    "        '4':'0100', '5':'0101', '6':'0110', '7':'0111', \n",
    "        '8':'1000', '9':'1001', 'a':'1010', 'b':'1011', \n",
    "        'c':'1100', 'd':'1101', 'e':'1110', 'f':'1111'}\n",
    "\n",
    "drop = {'0':'0', '1':'1', '2':'2', '3':'3', '4':'4', '5':'5', '6':'6', '7':'7', \n",
    "        '8':'0', '9':'1', 'a':'2', 'b':'3', 'c':'4', 'd':'5', 'e':'6', 'f':'7'}\n",
    "\n",
    "def double_to_hex(f):\n",
    "    return hex(struct.unpack('<Q', struct.pack('<d', f))[0])\n",
    "\n",
    "def fprint(x):\n",
    "    \"\"\"Print a 64-bit floating-point number in various formats.\n",
    "    \"\"\"\n",
    "    print('input     :', x)\n",
    "    # Cast the input to a 64-bit float\n",
    "    x = np.float64(x)\n",
    "    xhex = double_to_hex(x)[2:]\n",
    "    print('as float64: {:.16e}'.format(x))\n",
    "    print('as hex    : ' + xhex)\n",
    "    if bits[xhex[0]][0] == '0':\n",
    "        sign = '0 means +'\n",
    "    else:\n",
    "        sign = '1 means -'\n",
    "    print('sign      :', sign)\n",
    "    expostr = drop[xhex[0]] + xhex[1:3]\n",
    "    expo = int(expostr, 16)\n",
    "    if expo == 0:\n",
    "        print('exponent  :', expostr, 'means zero or denormal')\n",
    "    elif expo == 2047:\n",
    "        print('exponent  :', expostr, 'means inf or nan')\n",
    "    else:\n",
    "        print('exponent  :', expostr, 'means', expo, '- 1023 =', expo - 1023)\n",
    "        mantissa = '1.'\n",
    "        for i in range(3,16):\n",
    "            mantissa = mantissa + bits[xhex[i]]\n",
    "        print('mantissa  :', mantissa)\n",
    "    print()\n"
   ]
  },
  {
   "cell_type": "code",
   "execution_count": 3,
   "metadata": {},
   "outputs": [
    {
     "name": "stdout",
     "output_type": "stream",
     "text": [
      "input     : 0.3333333333333333\n",
      "as float64: 3.3333333333333331e-01\n",
      "as hex    : 3fd5555555555555\n",
      "sign      : 0 means +\n",
      "exponent  : 3fd means 1021 - 1023 = -2\n",
      "mantissa  : 1.0101010101010101010101010101010101010101010101010101\n",
      "\n"
     ]
    }
   ],
   "source": [
    "fprint(1/3)"
   ]
  },
  {
   "cell_type": "code",
   "execution_count": 4,
   "metadata": {},
   "outputs": [
    {
     "name": "stdout",
     "output_type": "stream",
     "text": [
      "input     : -inf\n",
      "as float64: -inf\n",
      "as hex    : fff0000000000000\n",
      "sign      : 1 means -\n",
      "exponent  : 7ff means inf or nan\n",
      "\n"
     ]
    }
   ],
   "source": [
    "fprint(-np.inf)"
   ]
  },
  {
   "cell_type": "code",
   "execution_count": 5,
   "metadata": {},
   "outputs": [
    {
     "name": "stdout",
     "output_type": "stream",
     "text": [
      "Machine parameters for float64\n",
      "---------------------------------------------------------------\n",
      "precision =  15   resolution = 1.0000000000000001e-15\n",
      "machep =    -52   eps =        2.2204460492503131e-16\n",
      "negep =     -53   epsneg =     1.1102230246251565e-16\n",
      "minexp =  -1022   tiny =       2.2250738585072014e-308\n",
      "maxexp =   1024   max =        1.7976931348623157e+308\n",
      "nexp =       11   min =        -max\n",
      "---------------------------------------------------------------\n",
      "\n"
     ]
    }
   ],
   "source": [
    "print(np.finfo(np.float64))"
   ]
  },
  {
   "cell_type": "code",
   "execution_count": null,
   "metadata": {},
   "outputs": [],
   "source": []
  }
 ],
 "metadata": {
  "kernelspec": {
   "display_name": "Python 3",
   "language": "python",
   "name": "python3"
  },
  "language_info": {
   "codemirror_mode": {
    "name": "ipython",
    "version": 3
   },
   "file_extension": ".py",
   "mimetype": "text/x-python",
   "name": "python",
   "nbconvert_exporter": "python",
   "pygments_lexer": "ipython3",
   "version": "3.6.5"
  }
 },
 "nbformat": 4,
 "nbformat_minor": 2
}
